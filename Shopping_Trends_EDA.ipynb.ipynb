{
 "cells": [
  {
   "cell_type": "markdown",
   "id": "2f3dc687",
   "metadata": {
    "_cell_guid": "b1076dfc-b9ad-4769-8c92-a6c4dae69d19",
    "_uuid": "8f2839f25d086af736a60e9eeb907d3b93b6e0e5",
    "execution": {
     "iopub.execute_input": "2023-10-09T04:43:54.864600Z",
     "iopub.status.busy": "2023-10-09T04:43:54.863935Z",
     "iopub.status.idle": "2023-10-09T04:43:57.072118Z",
     "shell.execute_reply": "2023-10-09T04:43:57.070799Z",
     "shell.execute_reply.started": "2023-10-09T04:43:54.864558Z"
    },
    "papermill": {
     "duration": 0.025611,
     "end_time": "2023-11-04T12:15:42.688548",
     "exception": false,
     "start_time": "2023-11-04T12:15:42.662937",
     "status": "completed"
    },
    "tags": []
   },
   "source": [
    "\n",
    "![](https://i.imgur.com/KhDDHls.gif)\n",
    "![](https://i.imgur.com/Ffjv44w.gif)\n"
   ]
  },
  {
   "cell_type": "markdown",
   "id": "508cb363",
   "metadata": {
    "papermill": {
     "duration": 0.024677,
     "end_time": "2023-11-04T12:15:42.740196",
     "exception": false,
     "start_time": "2023-11-04T12:15:42.715519",
     "status": "completed"
    },
    "tags": []
   },
   "source": [
    "\n",
    "![](https://i.imgur.com/ApLRIDa.gif)\n",
    "\n",
    "The Customer Shopping Preferences Dataset offers valuable insights into consumer behavior and purchasing patterns. Understanding customer preferences and trends is critical for businesses to tailor their products, marketing strategies, and overall customer experience. This dataset captures a wide range of customer attributes including age, gender, purchase history, preferred payment methods, frequency of purchases, and more. Analyzing this data can help businesses make informed decisions, optimize product offerings, and enhance customer satisfaction. The dataset stands as a valuable resource for businesses aiming to align their strategies with customer needs and preferences. It's important to note that this dataset is a **Synthetic** Dataset Created for Beginners to learn more about Data Analysis and Machine Learning.\n"
   ]
  },
  {
   "cell_type": "markdown",
   "id": "373d9d53",
   "metadata": {
    "papermill": {
     "duration": 0.02494,
     "end_time": "2023-11-04T12:15:43.010872",
     "exception": false,
     "start_time": "2023-11-04T12:15:42.985932",
     "status": "completed"
    },
    "tags": []
   },
   "source": [
    "\n",
    "![](https://i.imgur.com/vtvJAl0.gif)\n",
    "\n",
    "\n",
    "This dataset encompasses various features related to customer shopping preferences, gathering essential information for businesses seeking to enhance their understanding of their customer base. The features include customer age, gender, purchase amount, preferred payment methods, frequency of purchases, and feedback ratings. Additionally, data on the type of items purchased, shopping frequency, preferred shopping seasons, and interactions with promotional offers is included. With a collection of **3900 records**, this dataset serves as a foundation for businesses looking to apply data-driven insights for better decision-making and customer-centric strategies.\n"
   ]
  },
  {
   "cell_type": "markdown",
   "id": "b6e09bda",
   "metadata": {
    "papermill": {
     "duration": 0.025588,
     "end_time": "2023-11-04T12:15:43.061926",
     "exception": false,
     "start_time": "2023-11-04T12:15:43.036338",
     "status": "completed"
    },
    "tags": []
   },
   "source": [
    "\n",
    "<div style=\"color: White; display: fill;\n",
    "            border-radius: 5px;\n",
    "            background-color: #362FD9;\n",
    "            font-size: 100%;\n",
    "            font-family: Verdana\">\n",
    "\n",
    "<p style=\"padding: 7px; color: Black;\">\n",
    "      <ul>  📌 <b>Customer ID</b> - Unique identifier for each customer.<br>\n",
    "        📌 <b>Age</b> - Age of the customer.<br>\n",
    "        📌 <b>Gender</b> - Gender of the customer (Male/Female).<br>\n",
    "        📌 <b>Item Purchased</b> - The item purchased by the customer.<br>\n",
    "        📌 <b>Category</b> - Category of the item purchased.<br>\n",
    "        📌 <b>Purchase Amount (USD)</b> - The amount of the purchase in USD.<br>\n",
    "        📌 <b>Location</b> - Location where the purchase was made.<br>\n",
    "        📌 <b>Size</b> - Size of the purchased item.<br>\n",
    "        📌 <b>Color</b> - Color of the purchased item.<br>\n",
    "        📌 <b>Season</b> - Season during which the purchase was made.<br>\n",
    "        📌 <b>Review Rating</b> - Rating given by the customer for the purchased item.<br>\n",
    "        📌 <b>Subscription Status</b> - Indicates if the customer has a subscription (Yes/No).<br>\n",
    "        📌 <b>Shipping Type</b> - Type of shipping chosen by the customer.<br>\n",
    "        📌 <b>Discount Applied</b> - Indicates if a discount was applied to the purchase (Yes/No).<br>\n",
    "        📌 <b>Promo Code Used</b> - Indicates if a promo code was used for the purchase (Yes/No).<br>\n",
    "        📌 <b>Previous Purchases</b> - Number of previous purchases made by the customer.<br>\n",
    "        📌 <b>Payment Method</b> - Customer's most preferred payment method.<br>\n",
    "        📌 <b>Frequency of Purchases</b> - Frequency at which the customer makes purchases (e.g., Weekly, Fortnightly, Monthly).<br><br>\n",
    "    <p style = \"padding: 3px; color: Black;\">\n"
   ]
  },
  {
   "cell_type": "markdown",
   "id": "31e5ed55",
   "metadata": {},
   "source": [
    "<div style=\"padding:10px;\n",
    "            color:#E55604;\n",
    "            margin:10px;\n",
    "            font-size:130%;\n",
    "            display:fill;\n",
    "            border-radius:5px;\n",
    "            border-style: solid;\n",
    "            border-color: #FF9B50;\n",
    "            background-color:#000000;\n",
    "            overflow:hidden;\n",
    "            font-weight:400\"><b>Pipeline</b>\n",
    "</div>\n",
    "\n",
    "1.  **Data Loading:** The dataset is loaded using pandas.\n",
    "2.  **Data Inspection:** Inspect the dataset's shape, columns, and information (data types, non-null counts). Separate categorical and numerical features into distinct lists.\n",
    "3.  **Data Cleaning:** Identify and handle missing values and duplicate entries.\n",
    "4.  **Descriptive Statistics:** Calculate basic statistics, such as average age, most common items, and total purchase amounts by category.\n",
    "5.  **Exploratory Analysis:** Explores individual features (e.g., gender, category, location) using value counts, bar plots, and pie charts. It also generates a word cloud for location. for nummerical feature explore the distributions.\n",
    "6.  **In-depth Analysis:** It answers specific questions about the data, such as the average review rating for male and female customers, the most common payment method, and the average purchase amount for customers with subscriptions.\n",
    "7.  **Correlation Analysis:** Calculate the correlation coefficient (e.g., Pearson) between age and previous purchases."
   ]
  },
  {
   "cell_type": "markdown",
   "id": "e5685dcc",
   "metadata": {},
   "source": [
    "# SETUP"
   ]
  },
  {
   "cell_type": "markdown",
   "id": "42dbf14a",
   "metadata": {
    "papermill": {
     "duration": 0.025145,
     "end_time": "2023-11-04T12:15:43.112710",
     "exception": false,
     "start_time": "2023-11-04T12:15:43.087565",
     "status": "completed"
    },
    "tags": []
   },
   "source": [
    "<div style=\"padding:10px;\n",
    "            color:#E55604;\n",
    "            margin:10px;\n",
    "            font-size:130%;\n",
    "            display:fill;\n",
    "            border-radius:5px;\n",
    "            border-style: solid;\n",
    "            border-color: #FF9B50;\n",
    "            background-color:#000000;\n",
    "            overflow:hidden;\n",
    "            font-weight:400\"><b>Importing Libraries</b>\n",
    "</div>"
   ]
  },
  {
   "cell_type": "code",
   "execution_count": null,
   "id": "4d26c1fb",
   "metadata": {
    "execution": {
     "iopub.execute_input": "2023-11-04T12:15:43.166189Z",
     "iopub.status.busy": "2023-11-04T12:15:43.165580Z",
     "iopub.status.idle": "2023-11-04T12:15:44.869290Z",
     "shell.execute_reply": "2023-11-04T12:15:44.867723Z"
    },
    "papermill": {
     "duration": 1.732175,
     "end_time": "2023-11-04T12:15:44.871714",
     "exception": false,
     "start_time": "2023-11-04T12:15:43.139539",
     "status": "completed"
    },
    "tags": []
   },
   "outputs": [],
   "source": []
  },
  {
   "cell_type": "code",
   "execution_count": null,
   "id": "d57d9c16",
   "metadata": {},
   "outputs": [],
   "source": [
    "# Set the color palette.\n"
   ]
  },
  {
   "cell_type": "markdown",
   "id": "78733eac",
   "metadata": {},
   "source": [
    "# LOADING DATASET"
   ]
  },
  {
   "cell_type": "markdown",
   "id": "17c1e45b",
   "metadata": {
    "papermill": {
     "duration": 0.02353,
     "end_time": "2023-11-04T12:15:44.920371",
     "exception": false,
     "start_time": "2023-11-04T12:15:44.896841",
     "status": "completed"
    },
    "tags": []
   },
   "source": [
    "<div style=\"padding:10px;\n",
    "            color:#E55604;\n",
    "            margin:10px;\n",
    "            font-size:130%;\n",
    "            display:fill;\n",
    "            border-radius:5px;\n",
    "            border-style: solid;\n",
    "            border-color: #FF9B50;\n",
    "            background-color:#000000;\n",
    "            overflow:hidden;\n",
    "            font-weight:400\"><b>Import dataset using Pandas</b>\n",
    "</div>"
   ]
  },
  {
   "cell_type": "code",
   "execution_count": null,
   "id": "b0c5a2ca",
   "metadata": {
    "execution": {
     "iopub.execute_input": "2023-11-04T12:15:44.970276Z",
     "iopub.status.busy": "2023-11-04T12:15:44.969702Z",
     "iopub.status.idle": "2023-11-04T12:15:45.035610Z",
     "shell.execute_reply": "2023-11-04T12:15:45.034015Z"
    },
    "papermill": {
     "duration": 0.093165,
     "end_time": "2023-11-04T12:15:45.037398",
     "exception": false,
     "start_time": "2023-11-04T12:15:44.944233",
     "status": "completed"
    },
    "tags": []
   },
   "outputs": [],
   "source": []
  },
  {
   "cell_type": "markdown",
   "id": "acc638e4",
   "metadata": {},
   "source": [
    "# DATA INSPECTION"
   ]
  },
  {
   "cell_type": "markdown",
   "id": "658e3c95",
   "metadata": {
    "papermill": {
     "duration": 0.0244,
     "end_time": "2023-11-04T12:15:45.087301",
     "exception": false,
     "start_time": "2023-11-04T12:15:45.062901",
     "status": "completed"
    },
    "tags": []
   },
   "source": [
    "<div style=\"padding:10px;\n",
    "            color:#E55604;\n",
    "            margin:10px;\n",
    "            font-size:130%;\n",
    "            display:fill;\n",
    "            border-radius:5px;\n",
    "            border-style: solid;\n",
    "            border-color: #FF9B50;\n",
    "            background-color:#000000;\n",
    "            overflow:hidden;\n",
    "            font-weight:400\"><b>Checking the shape of the Dataset</b>\n",
    "</div>"
   ]
  },
  {
   "cell_type": "code",
   "execution_count": null,
   "id": "edaea665",
   "metadata": {
    "execution": {
     "iopub.execute_input": "2023-11-04T12:15:45.139793Z",
     "iopub.status.busy": "2023-11-04T12:15:45.138371Z",
     "iopub.status.idle": "2023-11-04T12:15:45.144799Z",
     "shell.execute_reply": "2023-11-04T12:15:45.144114Z"
    },
    "papermill": {
     "duration": 0.034576,
     "end_time": "2023-11-04T12:15:45.146462",
     "exception": false,
     "start_time": "2023-11-04T12:15:45.111886",
     "status": "completed"
    },
    "tags": []
   },
   "outputs": [],
   "source": []
  },
  {
   "cell_type": "markdown",
   "id": "ad2b9288",
   "metadata": {
    "papermill": {
     "duration": 0.026398,
     "end_time": "2023-11-04T12:15:45.200438",
     "exception": false,
     "start_time": "2023-11-04T12:15:45.174040",
     "status": "completed"
    },
    "tags": []
   },
   "source": [
    "<div style=\"padding:10px;\n",
    "            color:#E55604;\n",
    "            margin:10px;\n",
    "            font-size:130%;\n",
    "            display:fill;\n",
    "            border-radius:5px;\n",
    "            border-style: solid;\n",
    "            border-color: #FF9B50;\n",
    "            background-color:#000000;\n",
    "            overflow:hidden;\n",
    "            font-weight:400\"><b>Checking the number of Columns in the Dataset</b>\n",
    "</div>"
   ]
  },
  {
   "cell_type": "code",
   "execution_count": null,
   "id": "6bb1f4e1",
   "metadata": {
    "execution": {
     "iopub.execute_input": "2023-11-04T12:15:45.254057Z",
     "iopub.status.busy": "2023-11-04T12:15:45.253680Z",
     "iopub.status.idle": "2023-11-04T12:15:45.260104Z",
     "shell.execute_reply": "2023-11-04T12:15:45.259193Z"
    },
    "papermill": {
     "duration": 0.03654,
     "end_time": "2023-11-04T12:15:45.262864",
     "exception": false,
     "start_time": "2023-11-04T12:15:45.226324",
     "status": "completed"
    },
    "tags": []
   },
   "outputs": [],
   "source": []
  },
  {
   "cell_type": "markdown",
   "id": "e97e8b34",
   "metadata": {
    "papermill": {
     "duration": 0.024653,
     "end_time": "2023-11-04T12:15:45.313623",
     "exception": false,
     "start_time": "2023-11-04T12:15:45.288970",
     "status": "completed"
    },
    "tags": []
   },
   "source": [
    "<div style=\"padding:10px;\n",
    "            color:#E55604;\n",
    "            margin:10px;\n",
    "            font-size:130%;\n",
    "            display:fill;\n",
    "            border-radius:5px;\n",
    "            border-style: solid;\n",
    "            border-color: #FF9B50;\n",
    "            background-color:#000000;\n",
    "            overflow:hidden;\n",
    "            font-weight:400\"><b>Information about the Dataset</b>\n",
    "</div>"
   ]
  },
  {
   "cell_type": "code",
   "execution_count": null,
   "id": "8d6491cb",
   "metadata": {
    "execution": {
     "iopub.execute_input": "2023-11-04T12:15:45.364805Z",
     "iopub.status.busy": "2023-11-04T12:15:45.364467Z",
     "iopub.status.idle": "2023-11-04T12:15:45.390066Z",
     "shell.execute_reply": "2023-11-04T12:15:45.388058Z"
    },
    "papermill": {
     "duration": 0.053989,
     "end_time": "2023-11-04T12:15:45.392025",
     "exception": false,
     "start_time": "2023-11-04T12:15:45.338036",
     "status": "completed"
    },
    "tags": []
   },
   "outputs": [],
   "source": []
  },
  {
   "cell_type": "code",
   "execution_count": null,
   "id": "40cd12d4",
   "metadata": {},
   "outputs": [],
   "source": []
  },
  {
   "cell_type": "code",
   "execution_count": null,
   "id": "c74faf13",
   "metadata": {
    "execution": {
     "iopub.execute_input": "2023-11-04T12:15:45.444522Z",
     "iopub.status.busy": "2023-11-04T12:15:45.443561Z",
     "iopub.status.idle": "2023-11-04T12:15:45.465490Z",
     "shell.execute_reply": "2023-11-04T12:15:45.464744Z"
    },
    "papermill": {
     "duration": 0.049906,
     "end_time": "2023-11-04T12:15:45.467069",
     "exception": false,
     "start_time": "2023-11-04T12:15:45.417163",
     "status": "completed"
    },
    "tags": []
   },
   "outputs": [],
   "source": []
  },
  {
   "cell_type": "code",
   "execution_count": null,
   "id": "ddea38f9",
   "metadata": {},
   "outputs": [],
   "source": []
  },
  {
   "cell_type": "markdown",
   "id": "b1d58e07",
   "metadata": {},
   "source": [
    "# DATA CLEANING"
   ]
  },
  {
   "cell_type": "markdown",
   "id": "bf508749",
   "metadata": {
    "papermill": {
     "duration": 0.024556,
     "end_time": "2023-11-04T12:15:45.517107",
     "exception": false,
     "start_time": "2023-11-04T12:15:45.492551",
     "status": "completed"
    },
    "tags": []
   },
   "source": [
    "<div style=\"padding:10px;\n",
    "            color:#E55604;\n",
    "            margin:10px;\n",
    "            font-size:130%;\n",
    "            display:fill;\n",
    "            border-radius:5px;\n",
    "            border-style: solid;\n",
    "            border-color: #FF9B50;\n",
    "            background-color:#000000;\n",
    "            overflow:hidden;\n",
    "            font-weight:400\"><b>Checking if there are any null values present in the dataset or not ?</b>\n",
    "</div>"
   ]
  },
  {
   "cell_type": "code",
   "execution_count": null,
   "id": "ee16a303",
   "metadata": {
    "execution": {
     "iopub.execute_input": "2023-11-04T12:15:45.568854Z",
     "iopub.status.busy": "2023-11-04T12:15:45.567679Z",
     "iopub.status.idle": "2023-11-04T12:15:45.577331Z",
     "shell.execute_reply": "2023-11-04T12:15:45.576431Z"
    },
    "papermill": {
     "duration": 0.038169,
     "end_time": "2023-11-04T12:15:45.579764",
     "exception": false,
     "start_time": "2023-11-04T12:15:45.541595",
     "status": "completed"
    },
    "tags": []
   },
   "outputs": [],
   "source": []
  },
  {
   "cell_type": "markdown",
   "id": "327b6e9b",
   "metadata": {
    "papermill": {
     "duration": 0.027956,
     "end_time": "2023-11-04T12:15:45.634520",
     "exception": false,
     "start_time": "2023-11-04T12:15:45.606564",
     "status": "completed"
    },
    "tags": []
   },
   "source": [
    "<div style=\"padding:10px;\n",
    "            color:#E55604;\n",
    "            margin:10px;\n",
    "            font-size:130%;\n",
    "            display:fill;\n",
    "            border-radius:5px;\n",
    "            border-style: solid;\n",
    "            border-color: #FF9B50;\n",
    "            background-color:#000000;\n",
    "            overflow:hidden;\n",
    "            font-weight:400\"><b>Checking if there are any duplicate values present in the dataset or not ?</b>\n",
    "</div>"
   ]
  },
  {
   "cell_type": "code",
   "execution_count": null,
   "id": "f58a5f42",
   "metadata": {
    "execution": {
     "iopub.execute_input": "2023-11-04T12:15:45.688793Z",
     "iopub.status.busy": "2023-11-04T12:15:45.688392Z",
     "iopub.status.idle": "2023-11-04T12:15:45.704409Z",
     "shell.execute_reply": "2023-11-04T12:15:45.703564Z"
    },
    "papermill": {
     "duration": 0.04553,
     "end_time": "2023-11-04T12:15:45.706472",
     "exception": false,
     "start_time": "2023-11-04T12:15:45.660942",
     "status": "completed"
    },
    "tags": []
   },
   "outputs": [],
   "source": []
  },
  {
   "cell_type": "markdown",
   "id": "098cac09",
   "metadata": {},
   "source": [
    "# EDA FOR CATEGORICAL FEATURES\n",
    "\n",
    "1. Univariate analysis of categorical features.\n",
    "2. Univariate analysis of numerical features.\n",
    "3. Multivariate analysis of categorical features with the other numerical features. \n",
    "4. Heatmap for correlation analysis (numerical features).\n",
    "\n",
    "**Guidlines:**\n",
    "- Set up the figure size.\n",
    "- Set the title and labels for the x and y axes.\n",
    "- Set the rotation for x-axis labels if necessary.\n",
    "- Change the Ticks for x-axis and y-axis if necessary.\n",
    "- You can Use the `value_counts()` method to get the counts of each category.\n",
    "- Write observation for figure.\n",
    "- Try to use function if it is possible to avoid code repetition."
   ]
  },
  {
   "cell_type": "markdown",
   "id": "5d9e1b3c",
   "metadata": {},
   "source": [
    "<div style=\"padding:10px;\n",
    "            color:#E55604;\n",
    "            margin:10px;\n",
    "            font-size:130%;\n",
    "            display:fill;\n",
    "            border-radius:5px;\n",
    "            border-style: solid;\n",
    "            border-color: #FF9B50;\n",
    "            background-color:#000000;\n",
    "            overflow:hidden;\n",
    "            font-weight:400\"><b>Numerical Features Distribution</b>\n",
    "</div>\n",
    "\n"
   ]
  },
  {
   "cell_type": "code",
   "execution_count": null,
   "id": "11df2420",
   "metadata": {},
   "outputs": [],
   "source": []
  },
  {
   "cell_type": "markdown",
   "id": "d9a57636",
   "metadata": {},
   "source": [
    "<div style=\"padding:10px;\n",
    "            color:#E55604;\n",
    "            margin:10px;\n",
    "            font-size:130%;\n",
    "            display:fill;\n",
    "            border-radius:5px;\n",
    "            border-style: solid;\n",
    "            border-color: #FF9B50;\n",
    "            background-color:#000000;\n",
    "            overflow:hidden;\n",
    "            font-weight:400\"><b>Categorical Features Distribution</b>\n",
    "</div>\n",
    "\n",
    "\n"
   ]
  },
  {
   "cell_type": "code",
   "execution_count": null,
   "id": "29ba59f3",
   "metadata": {},
   "outputs": [],
   "source": []
  },
  {
   "cell_type": "markdown",
   "id": "56db3027",
   "metadata": {},
   "source": [
    "<div style=\"padding:10px;\n",
    "            color:#E55604;\n",
    "            margin:10px;\n",
    "            font-size:130%;\n",
    "            display:fill;\n",
    "            border-radius:5px;\n",
    "            border-style: solid;\n",
    "            border-color: #FF9B50;\n",
    "            background-color:#000000;\n",
    "            overflow:hidden;\n",
    "            font-weight:400\"><b>Calculate and plot Correlation</b></div>"
   ]
  },
  {
   "cell_type": "code",
   "execution_count": null,
   "id": "53b6d4ec",
   "metadata": {},
   "outputs": [],
   "source": []
  },
  {
   "cell_type": "markdown",
   "id": "5b93ba68",
   "metadata": {},
   "source": [
    "<div style=\"padding:10px;\n",
    "            color:#E55604;\n",
    "            margin:10px;\n",
    "            font-size:130%;\n",
    "            display:fill;\n",
    "            border-radius:5px;\n",
    "            border-style: solid;\n",
    "            border-color: #FF9B50;\n",
    "            background-color:#000000;\n",
    "            overflow:hidden;\n",
    "            font-weight:400\"><b>Bar Plot of `Payment Method` by `Season`</b>\n",
    "</div>"
   ]
  },
  {
   "cell_type": "code",
   "execution_count": null,
   "id": "10c9e376",
   "metadata": {},
   "outputs": [],
   "source": []
  },
  {
   "cell_type": "markdown",
   "id": "f45d3178",
   "metadata": {},
   "source": [
    "<div style=\"padding:10px;\n",
    "            color:#E55604;\n",
    "            margin:10px;\n",
    "            font-size:130%;\n",
    "            display:fill;\n",
    "            border-radius:5px;\n",
    "            border-style: solid;\n",
    "            border-color: #FF9B50;\n",
    "            background-color:#000000;\n",
    "            overflow:hidden;\n",
    "            font-weight:400\"><b>Scatter Plot of Age vs. Review Rating\n",
    "</b>\n",
    "</div>"
   ]
  },
  {
   "cell_type": "code",
   "execution_count": null,
   "id": "3a5b8429",
   "metadata": {},
   "outputs": [],
   "source": []
  },
  {
   "cell_type": "markdown",
   "id": "992c29f4",
   "metadata": {},
   "source": [
    "<div style=\"padding:10px;\n",
    "            color:#E55604;\n",
    "            margin:10px;\n",
    "            font-size:130%;\n",
    "            display:fill;\n",
    "            border-radius:5px;\n",
    "            border-style: solid;\n",
    "            border-color: #FF9B50;\n",
    "            background-color:#000000;\n",
    "            overflow:hidden;\n",
    "            font-weight:400\"><b>What is the `Subscription Status` per `Gender` </b>\n",
    "</div>"
   ]
  },
  {
   "cell_type": "code",
   "execution_count": null,
   "id": "06e81618",
   "metadata": {},
   "outputs": [],
   "source": []
  },
  {
   "cell_type": "markdown",
   "id": "fc70c1e6",
   "metadata": {},
   "source": [
    "<div style=\"padding:10px;\n",
    "            color:#E55604;\n",
    "            margin:10px;\n",
    "            font-size:130%;\n",
    "            display:fill;\n",
    "            border-radius:5px;\n",
    "            border-style: solid;\n",
    "            border-color: #FF9B50;\n",
    "            background-color:#000000;\n",
    "            overflow:hidden;\n",
    "            font-weight:400\"><b>What is the most common item purchased ?</b>\n",
    "</div>"
   ]
  },
  {
   "cell_type": "code",
   "execution_count": null,
   "id": "0c786c01",
   "metadata": {},
   "outputs": [],
   "source": []
  },
  {
   "cell_type": "markdown",
   "id": "0da00e46",
   "metadata": {},
   "source": [
    "<div style=\"padding:10px;\n",
    "            color:#E55604;\n",
    "            margin:10px;\n",
    "            font-size:130%;\n",
    "            display:fill;\n",
    "            border-radius:5px;\n",
    "            border-style: solid;\n",
    "            border-color: #FF9B50;\n",
    "            background-color:#000000;\n",
    "            overflow:hidden;\n",
    "            font-weight:400\"><b>What is the most common payment method for customers who purchased items in the Fall season ?</b></div>"
   ]
  },
  {
   "cell_type": "code",
   "execution_count": null,
   "id": "4d2b0cf1",
   "metadata": {},
   "outputs": [],
   "source": []
  },
  {
   "cell_type": "markdown",
   "id": "723794cd",
   "metadata": {},
   "source": [
    "<div style=\"padding:10px;\n",
    "            color:#E55604;\n",
    "            margin:10px;\n",
    "            font-size:130%;\n",
    "            display:fill;\n",
    "            border-radius:5px;\n",
    "            border-style: solid;\n",
    "            border-color: #FF9B50;\n",
    "            background-color:#000000;\n",
    "            overflow:hidden;\n",
    "            font-weight:400\"><b>What is the most common payment method used by customers ?</b>\n",
    "</div>"
   ]
  },
  {
   "cell_type": "code",
   "execution_count": null,
   "id": "83240d76",
   "metadata": {},
   "outputs": [],
   "source": []
  },
  {
   "cell_type": "markdown",
   "id": "f1c71797",
   "metadata": {},
   "source": [
    "<div style=\"padding:10px;\n",
    "            color:#E55604;\n",
    "            margin:10px;\n",
    "            font-size:130%;\n",
    "            display:fill;\n",
    "            border-radius:5px;\n",
    "            border-style: solid;\n",
    "            border-color: #FF9B50;\n",
    "            background-color:#000000;\n",
    "            overflow:hidden;\n",
    "            font-weight:400\"><b>What is the most common location for customers who purchased socks with a discount applied ?</b></div>"
   ]
  },
  {
   "cell_type": "code",
   "execution_count": null,
   "id": "13e64a54",
   "metadata": {},
   "outputs": [],
   "source": []
  },
  {
   "cell_type": "markdown",
   "id": "85cac30c",
   "metadata": {},
   "source": [
    "<div style=\"padding:10px;\n",
    "            color:#E55604;\n",
    "            margin:10px;\n",
    "            font-size:130%;\n",
    "            display:fill;\n",
    "            border-radius:5px;\n",
    "            border-style: solid;\n",
    "            border-color: #FF9B50;\n",
    "            background-color:#000000;\n",
    "            overflow:hidden;\n",
    "            font-weight:400\"><b>What is the most common season for purchases ?</b></div>"
   ]
  },
  {
   "cell_type": "code",
   "execution_count": null,
   "id": "b42cbf16",
   "metadata": {},
   "outputs": [],
   "source": []
  },
  {
   "cell_type": "markdown",
   "id": "b344074d",
   "metadata": {},
   "source": [
    "<div style=\"padding:10px;\n",
    "            color:#E55604;\n",
    "            margin:10px;\n",
    "            font-size:130%;\n",
    "            display:fill;\n",
    "            border-radius:5px;\n",
    "            border-style: solid;\n",
    "            border-color: #FF9B50;\n",
    "            background-color:#000000;\n",
    "            overflow:hidden;\n",
    "            font-weight:400\"><b>What is the total purchase amount for each category ?</b>\n",
    "</div>"
   ]
  },
  {
   "cell_type": "code",
   "execution_count": null,
   "id": "7d3ae6b5",
   "metadata": {},
   "outputs": [],
   "source": []
  },
  {
   "cell_type": "markdown",
   "id": "b64d4a3e",
   "metadata": {},
   "source": [
    "<div style=\"padding:10px;\n",
    "            color:#E55604;\n",
    "            margin:10px;\n",
    "            font-size:130%;\n",
    "            display:fill;\n",
    "            border-radius:5px;\n",
    "            border-style: solid;\n",
    "            border-color: #FF9B50;\n",
    "            background-color:#000000;\n",
    "            overflow:hidden;\n",
    "            font-weight:400\"><b>How many customers have opted for the Subscription ?</b></div>"
   ]
  },
  {
   "cell_type": "code",
   "execution_count": null,
   "id": "10bfc400",
   "metadata": {},
   "outputs": [],
   "source": []
  },
  {
   "cell_type": "markdown",
   "id": "f4de0f76",
   "metadata": {},
   "source": [
    "<div style=\"padding:10px;\n",
    "            color:#E55604;\n",
    "            margin:10px;\n",
    "            font-size:130%;\n",
    "            display:fill;\n",
    "            border-radius:5px;\n",
    "            border-style: solid;\n",
    "            border-color: #FF9B50;\n",
    "            background-color:#000000;\n",
    "            overflow:hidden;\n",
    "            font-weight:400\"><b>What is the total purchase amount for each gender ?</b>\n",
    "</div>"
   ]
  },
  {
   "cell_type": "code",
   "execution_count": null,
   "id": "647a90ef",
   "metadata": {},
   "outputs": [],
   "source": []
  },
  {
   "cell_type": "markdown",
   "id": "eee4b266",
   "metadata": {},
   "source": [
    "<div style=\"padding:10px;\n",
    "            color:#E55604;\n",
    "            margin:10px;\n",
    "            font-size:130%;\n",
    "            display:fill;\n",
    "            border-radius:5px;\n",
    "            border-style: solid;\n",
    "            border-color: #FF9B50;\n",
    "            background-color:#000000;\n",
    "            overflow:hidden;\n",
    "            font-weight:400\"><b>How many customers used a promo code for their purchase ?</b></div>"
   ]
  },
  {
   "cell_type": "code",
   "execution_count": null,
   "id": "d2f2c15f",
   "metadata": {},
   "outputs": [],
   "source": []
  },
  {
   "cell_type": "markdown",
   "id": "480e4ac6",
   "metadata": {
    "papermill": {
     "duration": 0.041839,
     "end_time": "2023-11-04T12:15:54.422346",
     "exception": false,
     "start_time": "2023-11-04T12:15:54.380507",
     "status": "completed"
    },
    "tags": []
   },
   "source": [
    "<div style=\"padding:10px;\n",
    "            color:#E55604;\n",
    "            margin:10px;\n",
    "            font-size:130%;\n",
    "            display:fill;\n",
    "            border-radius:5px;\n",
    "            border-style: solid;\n",
    "            border-color: #FF9B50;\n",
    "            background-color:#000000;\n",
    "            overflow:hidden;\n",
    "            font-weight:400\"><b>What is the average age of customers in the dataset ?</b>\n",
    "</div>"
   ]
  },
  {
   "cell_type": "code",
   "execution_count": null,
   "id": "353a6e72",
   "metadata": {
    "execution": {
     "iopub.execute_input": "2023-11-04T12:15:54.511275Z",
     "iopub.status.busy": "2023-11-04T12:15:54.510846Z",
     "iopub.status.idle": "2023-11-04T12:15:54.517677Z",
     "shell.execute_reply": "2023-11-04T12:15:54.516392Z"
    },
    "papermill": {
     "duration": 0.05413,
     "end_time": "2023-11-04T12:15:54.519443",
     "exception": false,
     "start_time": "2023-11-04T12:15:54.465313",
     "status": "completed"
    },
    "tags": []
   },
   "outputs": [],
   "source": []
  },
  {
   "cell_type": "markdown",
   "id": "0d223de3",
   "metadata": {},
   "source": [
    "<div style=\"padding:10px;\n",
    "            color:#E55604;\n",
    "            margin:10px;\n",
    "            font-size:130%;\n",
    "            display:fill;\n",
    "            border-radius:5px;\n",
    "            border-style: solid;\n",
    "            border-color: #FF9B50;\n",
    "            background-color:#000000;\n",
    "            overflow:hidden;\n",
    "            font-weight:400\"><b>What is the average age of customers who made purchases in the Summer season ?</b>\n",
    "</div>"
   ]
  },
  {
   "cell_type": "code",
   "execution_count": null,
   "id": "9b4a95ba",
   "metadata": {},
   "outputs": [],
   "source": []
  },
  {
   "cell_type": "markdown",
   "id": "e0e4785f",
   "metadata": {},
   "source": [
    "<div style=\"padding:10px;\n",
    "            color:#E55604;\n",
    "            margin:10px;\n",
    "            font-size:130%;\n",
    "            display:fill;\n",
    "            border-radius:5px;\n",
    "            border-style: solid;\n",
    "            border-color: #FF9B50;\n",
    "            background-color:#000000;\n",
    "            overflow:hidden;\n",
    "            font-weight:400\"><b>What is the median purchase amount (USD) ?</b>\n",
    "</div>"
   ]
  },
  {
   "cell_type": "code",
   "execution_count": null,
   "id": "bd24199d",
   "metadata": {},
   "outputs": [],
   "source": []
  },
  {
   "cell_type": "markdown",
   "id": "5ab9caa8",
   "metadata": {},
   "source": [
    "<div style=\"padding:10px;\n",
    "            color:#E55604;\n",
    "            margin:10px;\n",
    "            font-size:130%;\n",
    "            display:fill;\n",
    "            border-radius:5px;\n",
    "            border-style: solid;\n",
    "            border-color: #FF9B50;\n",
    "            background-color:#000000;\n",
    "            overflow:hidden;\n",
    "            font-weight:400\"><b>What is the maximum and minimum review rating in the dataset ?</b></div>"
   ]
  },
  {
   "cell_type": "code",
   "execution_count": null,
   "id": "ff4058f9",
   "metadata": {},
   "outputs": [],
   "source": []
  },
  {
   "cell_type": "markdown",
   "id": "6dbf1fa6",
   "metadata": {
    "papermill": {
     "duration": 0.043673,
     "end_time": "2023-11-04T12:15:54.981540",
     "exception": false,
     "start_time": "2023-11-04T12:15:54.937867",
     "status": "completed"
    },
    "tags": []
   },
   "source": [
    "<div style=\"padding:10px;\n",
    "            color:#E55604;\n",
    "            margin:10px;\n",
    "            font-size:130%;\n",
    "            display:fill;\n",
    "            border-radius:5px;\n",
    "            border-style: solid;\n",
    "            border-color: #FF9B50;\n",
    "            background-color:#000000;\n",
    "            overflow:hidden;\n",
    "            font-weight:400\"><b>What is the average review rating for male customers and female customers separately ?</b>\n",
    "</div>"
   ]
  },
  {
   "cell_type": "code",
   "execution_count": null,
   "id": "dd165b5d",
   "metadata": {
    "execution": {
     "iopub.execute_input": "2023-11-04T12:15:55.071038Z",
     "iopub.status.busy": "2023-11-04T12:15:55.070626Z",
     "iopub.status.idle": "2023-11-04T12:15:55.079808Z",
     "shell.execute_reply": "2023-11-04T12:15:55.079158Z"
    },
    "papermill": {
     "duration": 0.057116,
     "end_time": "2023-11-04T12:15:55.081762",
     "exception": false,
     "start_time": "2023-11-04T12:15:55.024646",
     "status": "completed"
    },
    "tags": []
   },
   "outputs": [],
   "source": []
  },
  {
   "cell_type": "markdown",
   "id": "86b8245d",
   "metadata": {
    "papermill": {
     "duration": 0.041747,
     "end_time": "2023-11-04T12:15:55.723441",
     "exception": false,
     "start_time": "2023-11-04T12:15:55.681694",
     "status": "completed"
    },
    "tags": []
   },
   "source": [
    "<div style=\"padding:10px;\n",
    "            color:#E55604;\n",
    "            margin:10px;\n",
    "            font-size:130%;\n",
    "            display:fill;\n",
    "            border-radius:5px;\n",
    "            border-style: solid;\n",
    "            border-color: #FF9B50;\n",
    "            background-color:#000000;\n",
    "            overflow:hidden;\n",
    "            font-weight:400\"><b>What is the average purchase amount for customers with a subscription status of 'Yes' and 'No' ?</b></div>"
   ]
  },
  {
   "cell_type": "code",
   "execution_count": null,
   "id": "f753a53b",
   "metadata": {},
   "outputs": [],
   "source": []
  },
  {
   "cell_type": "markdown",
   "id": "b2bfe25c",
   "metadata": {
    "papermill": {
     "duration": 0.043436,
     "end_time": "2023-11-04T12:15:56.848066",
     "exception": false,
     "start_time": "2023-11-04T12:15:56.804630",
     "status": "completed"
    },
    "tags": []
   },
   "source": [
    "<div style=\"padding:10px;\n",
    "            color:#E55604;\n",
    "            margin:10px;\n",
    "            font-size:130%;\n",
    "            display:fill;\n",
    "            border-radius:5px;\n",
    "            border-style: solid;\n",
    "            border-color: #FF9B50;\n",
    "            background-color:#000000;\n",
    "            overflow:hidden;\n",
    "            font-weight:400\"><b>What is the most common shipping type for customers with a review rating above 4 ?</b>\n",
    "</div>"
   ]
  },
  {
   "cell_type": "code",
   "execution_count": null,
   "id": "337c5469",
   "metadata": {
    "execution": {
     "iopub.execute_input": "2023-11-04T12:15:56.936191Z",
     "iopub.status.busy": "2023-11-04T12:15:56.935808Z",
     "iopub.status.idle": "2023-11-04T12:15:56.944698Z",
     "shell.execute_reply": "2023-11-04T12:15:56.942772Z"
    },
    "papermill": {
     "duration": 0.056419,
     "end_time": "2023-11-04T12:15:56.947803",
     "exception": false,
     "start_time": "2023-11-04T12:15:56.891384",
     "status": "completed"
    },
    "tags": []
   },
   "outputs": [],
   "source": []
  },
  {
   "cell_type": "markdown",
   "id": "3f5b7a4d",
   "metadata": {
    "papermill": {
     "duration": 0.043171,
     "end_time": "2023-11-04T12:15:57.036751",
     "exception": false,
     "start_time": "2023-11-04T12:15:56.993580",
     "status": "completed"
    },
    "tags": []
   },
   "source": [
    "<div style=\"padding:10px;\n",
    "            color:#E55604;\n",
    "            margin:10px;\n",
    "            font-size:130%;\n",
    "            display:fill;\n",
    "            border-radius:5px;\n",
    "            border-style: solid;\n",
    "            border-color: #FF9B50;\n",
    "            background-color:#000000;\n",
    "            overflow:hidden;\n",
    "            font-weight:400\"><b>How many customers have made more than 30 previous purchases ?</b>\n",
    "</div>"
   ]
  },
  {
   "cell_type": "code",
   "execution_count": null,
   "id": "dfc4f685",
   "metadata": {
    "execution": {
     "iopub.execute_input": "2023-11-04T12:15:57.132282Z",
     "iopub.status.busy": "2023-11-04T12:15:57.131853Z",
     "iopub.status.idle": "2023-11-04T12:15:57.139461Z",
     "shell.execute_reply": "2023-11-04T12:15:57.138554Z"
    },
    "papermill": {
     "duration": 0.058981,
     "end_time": "2023-11-04T12:15:57.141459",
     "exception": false,
     "start_time": "2023-11-04T12:15:57.082478",
     "status": "completed"
    },
    "tags": []
   },
   "outputs": [],
   "source": []
  },
  {
   "cell_type": "markdown",
   "id": "85975ec4",
   "metadata": {
    "papermill": {
     "duration": 0.043625,
     "end_time": "2023-11-04T12:15:57.229001",
     "exception": false,
     "start_time": "2023-11-04T12:15:57.185376",
     "status": "completed"
    },
    "tags": []
   },
   "source": [
    "<div style=\"padding:10px;\n",
    "            color:#E55604;\n",
    "            margin:10px;\n",
    "            font-size:130%;\n",
    "            display:fill;\n",
    "            border-radius:5px;\n",
    "            border-style: solid;\n",
    "            border-color: #FF9B50;\n",
    "            background-color:#000000;\n",
    "            overflow:hidden;\n",
    "            font-weight:400\"><b>What is the average purchase amount for customers who have made more than 30 previous purchases ?</b>\n",
    "</div>"
   ]
  },
  {
   "cell_type": "code",
   "execution_count": null,
   "id": "36f1eb58",
   "metadata": {
    "execution": {
     "iopub.execute_input": "2023-11-04T12:15:57.317569Z",
     "iopub.status.busy": "2023-11-04T12:15:57.317242Z",
     "iopub.status.idle": "2023-11-04T12:15:57.323697Z",
     "shell.execute_reply": "2023-11-04T12:15:57.322524Z"
    },
    "papermill": {
     "duration": 0.053595,
     "end_time": "2023-11-04T12:15:57.326034",
     "exception": false,
     "start_time": "2023-11-04T12:15:57.272439",
     "status": "completed"
    },
    "tags": []
   },
   "outputs": [],
   "source": []
  },
  {
   "cell_type": "markdown",
   "id": "5c00acef",
   "metadata": {
    "papermill": {
     "duration": 0.04558,
     "end_time": "2023-11-04T12:15:57.599183",
     "exception": false,
     "start_time": "2023-11-04T12:15:57.553603",
     "status": "completed"
    },
    "tags": []
   },
   "source": [
    "<div style=\"padding:10px;\n",
    "            color:#E55604;\n",
    "            margin:10px;\n",
    "            font-size:130%;\n",
    "            display:fill;\n",
    "            border-radius:5px;\n",
    "            border-style: solid;\n",
    "            border-color: #FF9B50;\n",
    "            background-color:#000000;\n",
    "            overflow:hidden;\n",
    "            font-weight:400\"><b>What is the total purchase amount for customers with a 'Free Shipping' shipping type ?</b></div>"
   ]
  },
  {
   "cell_type": "code",
   "execution_count": null,
   "id": "99a2f334",
   "metadata": {
    "execution": {
     "iopub.execute_input": "2023-11-04T12:15:57.691672Z",
     "iopub.status.busy": "2023-11-04T12:15:57.691301Z",
     "iopub.status.idle": "2023-11-04T12:15:57.698894Z",
     "shell.execute_reply": "2023-11-04T12:15:57.697742Z"
    },
    "papermill": {
     "duration": 0.05499,
     "end_time": "2023-11-04T12:15:57.700876",
     "exception": false,
     "start_time": "2023-11-04T12:15:57.645886",
     "status": "completed"
    },
    "tags": []
   },
   "outputs": [],
   "source": []
  },
  {
   "cell_type": "markdown",
   "id": "48890964",
   "metadata": {
    "papermill": {
     "duration": 0.043226,
     "end_time": "2023-11-04T12:15:57.787754",
     "exception": false,
     "start_time": "2023-11-04T12:15:57.744528",
     "status": "completed"
    },
    "tags": []
   },
   "source": [
    "<div style=\"padding:10px;\n",
    "            color:#E55604;\n",
    "            margin:10px;\n",
    "            font-size:130%;\n",
    "            display:fill;\n",
    "            border-radius:5px;\n",
    "            border-style: solid;\n",
    "            border-color: #FF9B50;\n",
    "            background-color:#000000;\n",
    "            overflow:hidden;\n",
    "            font-weight:400\"><b>What is the average purchase amount for customers who used a discount ?</b></div>"
   ]
  },
  {
   "cell_type": "code",
   "execution_count": null,
   "id": "0515fb2b",
   "metadata": {
    "execution": {
     "iopub.execute_input": "2023-11-04T12:15:57.878392Z",
     "iopub.status.busy": "2023-11-04T12:15:57.877614Z",
     "iopub.status.idle": "2023-11-04T12:15:57.884641Z",
     "shell.execute_reply": "2023-11-04T12:15:57.883611Z"
    },
    "papermill": {
     "duration": 0.054835,
     "end_time": "2023-11-04T12:15:57.886657",
     "exception": false,
     "start_time": "2023-11-04T12:15:57.831822",
     "status": "completed"
    },
    "tags": []
   },
   "outputs": [],
   "source": []
  },
  {
   "cell_type": "markdown",
   "id": "1397f588",
   "metadata": {
    "papermill": {
     "duration": 0.043847,
     "end_time": "2023-11-04T12:15:57.973360",
     "exception": false,
     "start_time": "2023-11-04T12:15:57.929513",
     "status": "completed"
    },
    "tags": []
   },
   "source": [
    "<div style=\"padding:10px;\n",
    "            color:#E55604;\n",
    "            margin:10px;\n",
    "            font-size:130%;\n",
    "            display:fill;\n",
    "            border-radius:5px;\n",
    "            border-style: solid;\n",
    "            border-color: #FF9B50;\n",
    "            background-color:#000000;\n",
    "            overflow:hidden;\n",
    "            font-weight:400\"><b>What is the most common category of items purchased by female customers with a review rating below 3 ?</b>\n",
    "</div>"
   ]
  },
  {
   "cell_type": "code",
   "execution_count": null,
   "id": "58b91a19",
   "metadata": {
    "execution": {
     "iopub.execute_input": "2023-11-04T12:15:58.064839Z",
     "iopub.status.busy": "2023-11-04T12:15:58.064478Z",
     "iopub.status.idle": "2023-11-04T12:15:58.073950Z",
     "shell.execute_reply": "2023-11-04T12:15:58.072110Z"
    },
    "papermill": {
     "duration": 0.057461,
     "end_time": "2023-11-04T12:15:58.076751",
     "exception": false,
     "start_time": "2023-11-04T12:15:58.019290",
     "status": "completed"
    },
    "tags": []
   },
   "outputs": [],
   "source": []
  },
  {
   "cell_type": "markdown",
   "id": "59056a6e",
   "metadata": {
    "papermill": {
     "duration": 0.047803,
     "end_time": "2023-11-04T12:15:58.172320",
     "exception": false,
     "start_time": "2023-11-04T12:15:58.124517",
     "status": "completed"
    },
    "tags": []
   },
   "source": [
    "<div style=\"padding:10px;\n",
    "            color:#E55604;\n",
    "            margin:10px;\n",
    "            font-size:130%;\n",
    "            display:fill;\n",
    "            border-radius:5px;\n",
    "            border-style: solid;\n",
    "            border-color: #FF9B50;\n",
    "            background-color:#000000;\n",
    "            overflow:hidden;\n",
    "            font-weight:400\"><b>What is the average age of customers who made purchases with a review rating above 4 and used a promo code?</b></div>"
   ]
  },
  {
   "cell_type": "code",
   "execution_count": null,
   "id": "660a41ce",
   "metadata": {
    "execution": {
     "iopub.execute_input": "2023-11-04T12:15:58.268731Z",
     "iopub.status.busy": "2023-11-04T12:15:58.267847Z",
     "iopub.status.idle": "2023-11-04T12:15:58.276073Z",
     "shell.execute_reply": "2023-11-04T12:15:58.274611Z"
    },
    "papermill": {
     "duration": 0.060793,
     "end_time": "2023-11-04T12:15:58.277945",
     "exception": false,
     "start_time": "2023-11-04T12:15:58.217152",
     "status": "completed"
    },
    "tags": []
   },
   "outputs": [],
   "source": []
  },
  {
   "cell_type": "markdown",
   "id": "95afbf1a",
   "metadata": {
    "papermill": {
     "duration": 0.045353,
     "end_time": "2023-11-04T12:15:58.369652",
     "exception": false,
     "start_time": "2023-11-04T12:15:58.324299",
     "status": "completed"
    },
    "tags": []
   },
   "source": [
    "<div style=\"padding:10px;\n",
    "            color:#E55604;\n",
    "            margin:10px;\n",
    "            font-size:130%;\n",
    "            display:fill;\n",
    "            border-radius:5px;\n",
    "            border-style: solid;\n",
    "            border-color: #FF9B50;\n",
    "            background-color:#000000;\n",
    "            overflow:hidden;\n",
    "            font-weight:400\"><b>What is the total purchase amount for customers in each location ?</b></div>"
   ]
  },
  {
   "cell_type": "code",
   "execution_count": null,
   "id": "d1092075",
   "metadata": {
    "execution": {
     "iopub.execute_input": "2023-11-04T12:15:58.462825Z",
     "iopub.status.busy": "2023-11-04T12:15:58.462398Z",
     "iopub.status.idle": "2023-11-04T12:15:58.471840Z",
     "shell.execute_reply": "2023-11-04T12:15:58.470064Z"
    },
    "papermill": {
     "duration": 0.058131,
     "end_time": "2023-11-04T12:15:58.473501",
     "exception": false,
     "start_time": "2023-11-04T12:15:58.415370",
     "status": "completed"
    },
    "tags": []
   },
   "outputs": [],
   "source": []
  },
  {
   "cell_type": "markdown",
   "id": "e14f18ad",
   "metadata": {
    "papermill": {
     "duration": 0.048939,
     "end_time": "2023-11-04T12:15:58.567846",
     "exception": false,
     "start_time": "2023-11-04T12:15:58.518907",
     "status": "completed"
    },
    "tags": []
   },
   "source": [
    "<div style=\"padding:10px;\n",
    "            color:#E55604;\n",
    "            margin:10px;\n",
    "            font-size:130%;\n",
    "            display:fill;\n",
    "            border-radius:5px;\n",
    "            border-style: solid;\n",
    "            border-color: #FF9B50;\n",
    "            background-color:#000000;\n",
    "            overflow:hidden;\n",
    "            font-weight:400\"><b>What is the average purchase amount for customers who have a subscription and used Venmo as the payment method ?</b></div>"
   ]
  },
  {
   "cell_type": "code",
   "execution_count": null,
   "id": "f6707e4d",
   "metadata": {
    "execution": {
     "iopub.execute_input": "2023-11-04T12:15:58.666973Z",
     "iopub.status.busy": "2023-11-04T12:15:58.666308Z",
     "iopub.status.idle": "2023-11-04T12:15:58.675358Z",
     "shell.execute_reply": "2023-11-04T12:15:58.673917Z"
    },
    "papermill": {
     "duration": 0.061668,
     "end_time": "2023-11-04T12:15:58.677162",
     "exception": false,
     "start_time": "2023-11-04T12:15:58.615494",
     "status": "completed"
    },
    "tags": []
   },
   "outputs": [],
   "source": []
  },
  {
   "cell_type": "markdown",
   "id": "c3df78c7",
   "metadata": {
    "papermill": {
     "duration": 0.043939,
     "end_time": "2023-11-04T12:15:58.955809",
     "exception": false,
     "start_time": "2023-11-04T12:15:58.911870",
     "status": "completed"
    },
    "tags": []
   },
   "source": [
    "<div style=\"padding:10px;\n",
    "            color:#E55604;\n",
    "            margin:10px;\n",
    "            font-size:130%;\n",
    "            display:fill;\n",
    "            border-radius:5px;\n",
    "            border-style: solid;\n",
    "            border-color: #FF9B50;\n",
    "            background-color:#000000;\n",
    "            overflow:hidden;\n",
    "            font-weight:400\"><b>What is the average purchase amount for each color of items ?</b></div>"
   ]
  },
  {
   "cell_type": "code",
   "execution_count": null,
   "id": "ea9f82e1",
   "metadata": {
    "execution": {
     "iopub.execute_input": "2023-11-04T12:15:59.052895Z",
     "iopub.status.busy": "2023-11-04T12:15:59.051691Z",
     "iopub.status.idle": "2023-11-04T12:15:59.064436Z",
     "shell.execute_reply": "2023-11-04T12:15:59.062616Z"
    },
    "papermill": {
     "duration": 0.0652,
     "end_time": "2023-11-04T12:15:59.067882",
     "exception": false,
     "start_time": "2023-11-04T12:15:59.002682",
     "status": "completed"
    },
    "tags": []
   },
   "outputs": [],
   "source": []
  },
  {
   "cell_type": "markdown",
   "id": "3f7bb7a6",
   "metadata": {
    "papermill": {
     "duration": 0.060128,
     "end_time": "2023-11-04T12:16:00.811045",
     "exception": false,
     "start_time": "2023-11-04T12:16:00.750917",
     "status": "completed"
    },
    "tags": []
   },
   "source": [
    "<div style=\"padding:10px;\n",
    "            color:#E55604;\n",
    "            margin:10px;\n",
    "            font-size:130%;\n",
    "            display:fill;\n",
    "            border-radius:5px;\n",
    "            border-style: solid;\n",
    "            border-color: #FF9B50;\n",
    "            background-color:#000000;\n",
    "            overflow:hidden;\n",
    "            font-weight:400\"><b>What is the average age of customers who purchased accessories with a discount applied ?</b></div>"
   ]
  },
  {
   "cell_type": "code",
   "execution_count": null,
   "id": "ef07c15a",
   "metadata": {
    "execution": {
     "iopub.execute_input": "2023-11-04T12:16:00.936803Z",
     "iopub.status.busy": "2023-11-04T12:16:00.936069Z",
     "iopub.status.idle": "2023-11-04T12:16:00.943501Z",
     "shell.execute_reply": "2023-11-04T12:16:00.942257Z"
    },
    "papermill": {
     "duration": 0.072418,
     "end_time": "2023-11-04T12:16:00.945142",
     "exception": false,
     "start_time": "2023-11-04T12:16:00.872724",
     "status": "completed"
    },
    "tags": []
   },
   "outputs": [],
   "source": []
  },
  {
   "cell_type": "markdown",
   "id": "c7280ee3",
   "metadata": {
    "papermill": {
     "duration": 0.061337,
     "end_time": "2023-11-04T12:16:01.068847",
     "exception": false,
     "start_time": "2023-11-04T12:16:01.007510",
     "status": "completed"
    },
    "tags": []
   },
   "source": [
    "<div style=\"padding:10px;\n",
    "            color:#E55604;\n",
    "            margin:10px;\n",
    "            font-size:130%;\n",
    "            display:fill;\n",
    "            border-radius:5px;\n",
    "            border-style: solid;\n",
    "            border-color: #FF9B50;\n",
    "            background-color:#000000;\n",
    "            overflow:hidden;\n",
    "            font-weight:400\"><b>What is the total purchase amount for each size of clothing items (XL, L, M, S) ?</b></div>"
   ]
  },
  {
   "cell_type": "code",
   "execution_count": null,
   "id": "b6ce3e07",
   "metadata": {
    "execution": {
     "iopub.execute_input": "2023-11-04T12:16:01.196748Z",
     "iopub.status.busy": "2023-11-04T12:16:01.196017Z",
     "iopub.status.idle": "2023-11-04T12:16:01.205752Z",
     "shell.execute_reply": "2023-11-04T12:16:01.204540Z"
    },
    "papermill": {
     "duration": 0.075841,
     "end_time": "2023-11-04T12:16:01.207844",
     "exception": false,
     "start_time": "2023-11-04T12:16:01.132003",
     "status": "completed"
    },
    "tags": []
   },
   "outputs": [],
   "source": []
  },
  {
   "cell_type": "markdown",
   "id": "e3707a52",
   "metadata": {
    "papermill": {
     "duration": 0.060923,
     "end_time": "2023-11-04T12:16:01.331637",
     "exception": false,
     "start_time": "2023-11-04T12:16:01.270714",
     "status": "completed"
    },
    "tags": []
   },
   "source": [
    "<div style=\"padding:10px;\n",
    "            color:#E55604;\n",
    "            margin:10px;\n",
    "            font-size:130%;\n",
    "            display:fill;\n",
    "            border-radius:5px;\n",
    "            border-style: solid;\n",
    "            border-color: #FF9B50;\n",
    "            background-color:#000000;\n",
    "            overflow:hidden;\n",
    "            font-weight:400\"><b>What is the total purchase amount for customers who have made more than 40 previous purchases ?</b></div>"
   ]
  },
  {
   "cell_type": "code",
   "execution_count": null,
   "id": "6981423e",
   "metadata": {
    "execution": {
     "iopub.execute_input": "2023-11-04T12:16:01.459137Z",
     "iopub.status.busy": "2023-11-04T12:16:01.458380Z",
     "iopub.status.idle": "2023-11-04T12:16:01.464447Z",
     "shell.execute_reply": "2023-11-04T12:16:01.463853Z"
    },
    "papermill": {
     "duration": 0.072477,
     "end_time": "2023-11-04T12:16:01.466251",
     "exception": false,
     "start_time": "2023-11-04T12:16:01.393774",
     "status": "completed"
    },
    "tags": []
   },
   "outputs": [],
   "source": []
  },
  {
   "cell_type": "markdown",
   "id": "3696f056",
   "metadata": {
    "papermill": {
     "duration": 0.061445,
     "end_time": "2023-11-04T12:16:01.850956",
     "exception": false,
     "start_time": "2023-11-04T12:16:01.789511",
     "status": "completed"
    },
    "tags": []
   },
   "source": [
    "<div style=\"padding:10px;\n",
    "            color:#E55604;\n",
    "            margin:10px;\n",
    "            font-size:130%;\n",
    "            display:fill;\n",
    "            border-radius:5px;\n",
    "            border-style: solid;\n",
    "            border-color: #FF9B50;\n",
    "            background-color:#000000;\n",
    "            overflow:hidden;\n",
    "            font-weight:400\"><b>What is the average purchase amount for customers who have a subscription and used Venmo as the payment method, but did not use a promo code ?</b></div>"
   ]
  },
  {
   "cell_type": "code",
   "execution_count": null,
   "id": "55b6ca64",
   "metadata": {
    "execution": {
     "iopub.execute_input": "2023-11-04T12:16:01.978375Z",
     "iopub.status.busy": "2023-11-04T12:16:01.977638Z",
     "iopub.status.idle": "2023-11-04T12:16:01.985394Z",
     "shell.execute_reply": "2023-11-04T12:16:01.984278Z"
    },
    "papermill": {
     "duration": 0.073537,
     "end_time": "2023-11-04T12:16:01.987127",
     "exception": false,
     "start_time": "2023-11-04T12:16:01.913590",
     "status": "completed"
    },
    "tags": []
   },
   "outputs": [],
   "source": []
  },
  {
   "cell_type": "markdown",
   "id": "517140b6",
   "metadata": {
    "papermill": {
     "duration": 0.065894,
     "end_time": "2023-11-04T12:16:02.115585",
     "exception": false,
     "start_time": "2023-11-04T12:16:02.049691",
     "status": "completed"
    },
    "tags": []
   },
   "source": [
    "<div style=\"padding:10px;\n",
    "            color:#E55604;\n",
    "            margin:10px;\n",
    "            font-size:130%;\n",
    "            display:fill;\n",
    "            border-radius:5px;\n",
    "            border-style: solid;\n",
    "            border-color: #FF9B50;\n",
    "            background-color:#000000;\n",
    "            overflow:hidden;\n",
    "            font-weight:400\"><b>What is the most common item purchased by customers in Louisiana with a review rating of 4 or higher ?</b></div>"
   ]
  },
  {
   "cell_type": "code",
   "execution_count": null,
   "id": "d9ff742e",
   "metadata": {
    "execution": {
     "iopub.execute_input": "2023-11-04T12:16:02.242414Z",
     "iopub.status.busy": "2023-11-04T12:16:02.241712Z",
     "iopub.status.idle": "2023-11-04T12:16:02.250714Z",
     "shell.execute_reply": "2023-11-04T12:16:02.249278Z"
    },
    "papermill": {
     "duration": 0.074502,
     "end_time": "2023-11-04T12:16:02.253341",
     "exception": false,
     "start_time": "2023-11-04T12:16:02.178839",
     "status": "completed"
    },
    "tags": []
   },
   "outputs": [],
   "source": []
  },
  {
   "cell_type": "markdown",
   "id": "2a4455ce",
   "metadata": {
    "papermill": {
     "duration": 0.062641,
     "end_time": "2023-11-04T12:16:02.378894",
     "exception": false,
     "start_time": "2023-11-04T12:16:02.316253",
     "status": "completed"
    },
    "tags": []
   },
   "source": [
    "<div style=\"padding:10px;\n",
    "            color:#E55604;\n",
    "            margin:10px;\n",
    "            font-size:130%;\n",
    "            display:fill;\n",
    "            border-radius:5px;\n",
    "            border-style: solid;\n",
    "            border-color: #FF9B50;\n",
    "            background-color:#000000;\n",
    "            overflow:hidden;\n",
    "            font-weight:400\"><b>What is the total purchase amount for customers who made purchases in the Fall season and used a credit card as the payment method ?</b></div>"
   ]
  },
  {
   "cell_type": "code",
   "execution_count": null,
   "id": "b259d0c4",
   "metadata": {
    "execution": {
     "iopub.execute_input": "2023-11-04T12:16:02.507479Z",
     "iopub.status.busy": "2023-11-04T12:16:02.506132Z",
     "iopub.status.idle": "2023-11-04T12:16:02.514917Z",
     "shell.execute_reply": "2023-11-04T12:16:02.513694Z"
    },
    "papermill": {
     "duration": 0.075269,
     "end_time": "2023-11-04T12:16:02.516901",
     "exception": false,
     "start_time": "2023-11-04T12:16:02.441632",
     "status": "completed"
    },
    "tags": []
   },
   "outputs": [],
   "source": []
  },
  {
   "cell_type": "markdown",
   "id": "53b30321",
   "metadata": {
    "papermill": {
     "duration": 0.062714,
     "end_time": "2023-11-04T12:16:02.641944",
     "exception": false,
     "start_time": "2023-11-04T12:16:02.579230",
     "status": "completed"
    },
    "tags": []
   },
   "source": [
    "<div style=\"padding:10px;\n",
    "            color:#E55604;\n",
    "            margin:10px;\n",
    "            font-size:130%;\n",
    "            display:fill;\n",
    "            border-radius:5px;\n",
    "            border-style: solid;\n",
    "            border-color: #FF9B50;\n",
    "            background-color:#000000;\n",
    "            overflow:hidden;\n",
    "            font-weight:400\"><b>What is the most common category of items purchased by male customers in the Winter season with a review rating below 3 ?</b></div>"
   ]
  },
  {
   "cell_type": "code",
   "execution_count": null,
   "id": "652ad114",
   "metadata": {
    "execution": {
     "iopub.execute_input": "2023-11-04T12:16:02.773580Z",
     "iopub.status.busy": "2023-11-04T12:16:02.771662Z",
     "iopub.status.idle": "2023-11-04T12:16:02.782562Z",
     "shell.execute_reply": "2023-11-04T12:16:02.781099Z"
    },
    "papermill": {
     "duration": 0.078293,
     "end_time": "2023-11-04T12:16:02.784328",
     "exception": false,
     "start_time": "2023-11-04T12:16:02.706035",
     "status": "completed"
    },
    "tags": []
   },
   "outputs": [],
   "source": []
  },
  {
   "cell_type": "markdown",
   "id": "60490840",
   "metadata": {
    "papermill": {
     "duration": 0.065248,
     "end_time": "2023-11-04T12:16:02.913027",
     "exception": false,
     "start_time": "2023-11-04T12:16:02.847779",
     "status": "completed"
    },
    "tags": []
   },
   "source": [
    "<div style=\"padding:10px;\n",
    "            color:#E55604;\n",
    "            margin:10px;\n",
    "            font-size:130%;\n",
    "            display:fill;\n",
    "            border-radius:5px;\n",
    "            border-style: solid;\n",
    "            border-color: #FF9B50;\n",
    "            background-color:#000000;\n",
    "            overflow:hidden;\n",
    "            font-weight:400\"><b>How many customers have a subscription status of 'Yes' and used a promo code for their purchase ?</b></div>"
   ]
  },
  {
   "cell_type": "code",
   "execution_count": null,
   "id": "1d1dd6a4",
   "metadata": {
    "execution": {
     "iopub.execute_input": "2023-11-04T12:16:03.042451Z",
     "iopub.status.busy": "2023-11-04T12:16:03.042097Z",
     "iopub.status.idle": "2023-11-04T12:16:03.050182Z",
     "shell.execute_reply": "2023-11-04T12:16:03.048911Z"
    },
    "papermill": {
     "duration": 0.076444,
     "end_time": "2023-11-04T12:16:03.053286",
     "exception": false,
     "start_time": "2023-11-04T12:16:02.976842",
     "status": "completed"
    },
    "tags": []
   },
   "outputs": [],
   "source": []
  }
 ],
 "metadata": {
  "kernelspec": {
   "display_name": "mlops-app",
   "language": "python",
   "name": "python3"
  },
  "language_info": {
   "codemirror_mode": {
    "name": "ipython",
    "version": 3
   },
   "file_extension": ".py",
   "mimetype": "text/x-python",
   "name": "python",
   "nbconvert_exporter": "python",
   "pygments_lexer": "ipython3",
   "version": "3.8.19"
  },
  "papermill": {
   "default_parameters": {},
   "duration": 30.929857,
   "end_time": "2023-11-04T12:16:10.857804",
   "environment_variables": {},
   "exception": null,
   "input_path": "__notebook__.ipynb",
   "output_path": "__notebook__.ipynb",
   "parameters": {},
   "start_time": "2023-11-04T12:15:39.927947",
   "version": "2.4.0"
  }
 },
 "nbformat": 4,
 "nbformat_minor": 5
}
